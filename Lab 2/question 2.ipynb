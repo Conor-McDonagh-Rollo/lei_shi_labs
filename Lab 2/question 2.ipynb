{
 "cells": [
  {
   "cell_type": "code",
   "execution_count": 3,
   "metadata": {},
   "outputs": [
    {
     "name": "stdout",
     "output_type": "stream",
     "text": [
      "Probability of killing the enemy with at least 2 successful shots: 0.11426499999999984\n"
     ]
    }
   ],
   "source": [
    "import math\n",
    "\n",
    "p = 0.10 # success in a single shot\n",
    "numOfShots = 6\n",
    "\n",
    "def binomial_probability(k):\n",
    "    return math.comb(numOfShots, k) * (p ** k) * ((1 - p) ** (numOfShots - k))\n",
    "\n",
    "probability_less_than_2 = binomial_probability(0) + binomial_probability(1)\n",
    "probability_at_least_2 = 1 - probability_less_than_2\n",
    "\n",
    "print(f\"Probability of killing the enemy with at least 2 successful shots: {probability_at_least_2}\")"
   ]
  }
 ],
 "metadata": {
  "kernelspec": {
   "display_name": "Python 3",
   "language": "python",
   "name": "python3"
  },
  "language_info": {
   "codemirror_mode": {
    "name": "ipython",
    "version": 3
   },
   "file_extension": ".py",
   "mimetype": "text/x-python",
   "name": "python",
   "nbconvert_exporter": "python",
   "pygments_lexer": "ipython3",
   "version": "3.11.6"
  }
 },
 "nbformat": 4,
 "nbformat_minor": 2
}
